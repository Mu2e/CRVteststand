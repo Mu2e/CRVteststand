{
 "cells": [
  {
   "cell_type": "markdown",
   "id": "89c2240d-0b97-4bd6-8b31-bb57dbd2315a",
   "metadata": {},
   "source": [
    "## Dataset run 1361-1367: \n",
    "### See lowYieldLED.ipynb:\n",
    "### FEB0 CMB temperature all frozen; FEB1 saw temperature deviation < 0.1 degC per subrun, can be regarded constant. \n",
    "### But otherwise data quality okay, no extra filter needed. "
   ]
  },
  {
   "cell_type": "markdown",
   "id": "be5ae0e1-9d69-45e8-82f7-885cbd1a9d53",
   "metadata": {
    "tags": []
   },
   "source": [
    "# 0. How stable are the pedestals?"
   ]
  },
  {
   "cell_type": "markdown",
   "id": "89bbfd19-967b-4ef1-b78b-c050f14809ec",
   "metadata": {
    "tags": []
   },
   "source": [
    "# 1. How does pedestal extraction techniques compare?"
   ]
  },
  {
   "cell_type": "markdown",
   "id": "1963b007-c453-4174-8ba4-e2d1cc94683d",
   "metadata": {},
   "source": [
    "Run pedestalProcess.py on all files."
   ]
  },
  {
   "cell_type": "markdown",
   "id": "0c0fd0fe-87ad-4876-acb8-7747c0102629",
   "metadata": {
    "tags": []
   },
   "source": [
    "# 2. How does PE extraction methods differ?"
   ]
  },
  {
   "cell_type": "markdown",
   "id": "ef3f4af4-5a3a-4e3c-a6ed-8ce9649d383c",
   "metadata": {
    "jp-MarkdownHeadingCollapsed": true,
    "tags": []
   },
   "source": [
    "# 3. How does different combinations work for the benchmark dataset?"
   ]
  }
 ],
 "metadata": {
  "kernelspec": {
   "display_name": "Python 3 (ipykernel)",
   "language": "python",
   "name": "python3"
  },
  "language_info": {
   "codemirror_mode": {
    "name": "ipython",
    "version": 3
   },
   "file_extension": ".py",
   "mimetype": "text/x-python",
   "name": "python",
   "nbconvert_exporter": "python",
   "pygments_lexer": "ipython3",
   "version": "3.9.15"
  }
 },
 "nbformat": 4,
 "nbformat_minor": 5
}
