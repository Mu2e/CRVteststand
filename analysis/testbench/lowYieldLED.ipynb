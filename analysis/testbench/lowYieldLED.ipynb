{
 "cells": [
  {
   "cell_type": "markdown",
   "id": "d32e1b8b-0448-4986-ac0e-03836e0c1ec2",
   "metadata": {},
   "source": [
    "This notebook looks into the data of run 1361-1367, which were taken with LED flashers sets to different bias voltages. The specific run, register settings, and nominal LED bias voltages are listed below:\n",
    "\n",
    "    --------------------------------------------\n",
    "    run#    bias_register    bias_voltage[V]\n",
    "    --------------------------------------------\n",
    "    1361    0x600            5.2500\n",
    "    1362    0x500            4.3750\n",
    "    1363    0x580            4.8125\n",
    "    1364    0x680            5.6875\n",
    "    1365    0x700            6.1250\n",
    "    1366    0x780            6.5625\n",
    "    1367    0x800            7.0000\n",
    "    --------------------------------------------"
   ]
  },
  {
   "cell_type": "code",
   "execution_count": 1,
   "id": "75d151b7-71d5-4149-ac36-b264c882ed02",
   "metadata": {},
   "outputs": [
    {
     "name": "stdout",
     "output_type": "stream",
     "text": [
      "Welcome to JupyROOT 6.28/00\n"
     ]
    }
   ],
   "source": [
    "from __future__ import print_function\n",
    "import sys\n",
    "import numpy as np\n",
    "import matplotlib.pyplot as plt\n",
    "from matplotlib.backends.backend_pdf import PdfPages\n",
    "\n",
    "import ROOT\n",
    "from ROOT import TCanvas, TH1F, TH2F, TF1, TMath, TGraph, TFile, TSpectrum, TPaveText, TMultiGraph, TGraphErrors, TLine\n",
    "from ROOT import gStyle, gROOT, gDirectory, gPad\n",
    "\n",
    "import constants\n",
    "import crv_event\n",
    "import crv_spill\n",
    "import utils\n",
    "import geometry\n",
    "import geometry_constants\n",
    "import filepath\n",
    "\n",
    "fileList, runNumList, configList, nFEBlist = filepath.getfilelist([\"LED_low_PE\"])\n",
    "nSmooth = 1"
   ]
  },
  {
   "cell_type": "markdown",
   "id": "bce53027-c330-402d-8478-68166239c778",
   "metadata": {},
   "source": [
    "1. Dataset and data quality:"
   ]
  },
  {
   "cell_type": "code",
   "execution_count": 2,
   "id": "3d7fa44e-c7d9-4c01-860e-bf78a7f6911e",
   "metadata": {},
   "outputs": [
    {
     "name": "stdout",
     "output_type": "stream",
     "text": [
      "Reading file: rec.mu2e.CRV_wideband_cosmics.CRVWB-000-001-000.001361_000.root\n",
      "Reading file: rec.mu2e.CRV_wideband_cosmics.CRVWB-000-001-000.001361_001.root\n",
      "*** WARNING: CRV_spill: getTempCMB: Spill # 8 has no actual event\n",
      "!!! spill 2, 0008 DQM = 0xff000e\n",
      "Reading file: rec.mu2e.CRV_wideband_cosmics.CRVWB-000-001-000.001361_002.root\n",
      "Reading file: rec.mu2e.CRV_wideband_cosmics.CRVWB-000-001-000.001361_003.root\n",
      "Reading file: rec.mu2e.CRV_wideband_cosmics.CRVWB-000-001-000.001362_000.root\n",
      "*** WARNING: CRV_spill: getTempCMB: Spill # 3 has no actual event\n",
      "!!! spill 2, 0003 DQM = 0xff000e\n",
      "Reading file: rec.mu2e.CRV_wideband_cosmics.CRVWB-000-001-000.001362_001.root\n",
      "Reading file: rec.mu2e.CRV_wideband_cosmics.CRVWB-000-001-000.001362_002.root\n",
      "Reading file: rec.mu2e.CRV_wideband_cosmics.CRVWB-000-001-000.001362_003.root\n",
      "Reading file: rec.mu2e.CRV_wideband_cosmics.CRVWB-000-001-000.001363_000.root\n",
      "Reading file: rec.mu2e.CRV_wideband_cosmics.CRVWB-000-001-000.001363_001.root\n",
      "*** WARNING: CRV_spill: getTempCMB: Spill # 8 has no actual event\n",
      "!!! spill 2, 0008 DQM = 0xff000e\n",
      "Reading file: rec.mu2e.CRV_wideband_cosmics.CRVWB-000-001-000.001363_002.root\n",
      "Reading file: rec.mu2e.CRV_wideband_cosmics.CRVWB-000-001-000.001363_003.root\n",
      "Reading file: rec.mu2e.CRV_wideband_cosmics.CRVWB-000-001-000.001364_000.root\n",
      "*** WARNING: CRV_spill: getTempCMB: Spill # 5 has no actual event\n",
      "!!! spill 4, 0005 DQM = 0x6\n",
      "Reading file: rec.mu2e.CRV_wideband_cosmics.CRVWB-000-001-000.001364_001.root\n",
      "Reading file: rec.mu2e.CRV_wideband_cosmics.CRVWB-000-001-000.001364_002.root\n",
      "Reading file: rec.mu2e.CRV_wideband_cosmics.CRVWB-000-001-000.001364_003.root\n",
      "Reading file: rec.mu2e.CRV_wideband_cosmics.CRVWB-000-001-000.001365_000.root\n",
      "Reading file: rec.mu2e.CRV_wideband_cosmics.CRVWB-000-001-000.001365_001.root\n",
      "*** WARNING: CRV_spill: getTempCMB: Spill # 10 has no actual event\n",
      "!!! spill 4, 0010 DQM = 0xff000e\n",
      "Reading file: rec.mu2e.CRV_wideband_cosmics.CRVWB-000-001-000.001365_002.root\n",
      "Reading file: rec.mu2e.CRV_wideband_cosmics.CRVWB-000-001-000.001365_003.root\n",
      "Reading file: rec.mu2e.CRV_wideband_cosmics.CRVWB-000-001-000.001366_000.root\n",
      "Reading file: rec.mu2e.CRV_wideband_cosmics.CRVWB-000-001-000.001366_001.root\n",
      "Reading file: rec.mu2e.CRV_wideband_cosmics.CRVWB-000-001-000.001366_002.root\n",
      "Reading file: rec.mu2e.CRV_wideband_cosmics.CRVWB-000-001-000.001366_003.root\n",
      "Reading file: rec.mu2e.CRV_wideband_cosmics.CRVWB-000-001-000.001367_000.root\n",
      "Reading file: rec.mu2e.CRV_wideband_cosmics.CRVWB-000-001-000.001367_001.root\n",
      "Reading file: rec.mu2e.CRV_wideband_cosmics.CRVWB-000-001-000.001367_002.root\n",
      "*** WARNING: CRV_spill: getTempCMB: Spill # 14 has no actual event\n",
      "!!! spill 3, 0014 DQM = 0x6\n",
      "Reading file: rec.mu2e.CRV_wideband_cosmics.CRVWB-000-001-000.001367_003.root\n"
     ]
    },
    {
     "data": {
      "text/html": [
       "\n",
       "        <iframe\n",
       "            width=\"1200\"\n",
       "            height=\"900\"\n",
       "            src=\"lowYieldLEDDQM.pdf\"\n",
       "            frameborder=\"0\"\n",
       "            allowfullscreen\n",
       "            \n",
       "        ></iframe>\n",
       "        "
      ],
      "text/plain": [
       "<IPython.lib.display.IFrame at 0x7f65767641c0>"
      ]
     },
     "execution_count": 2,
     "metadata": {},
     "output_type": "execute_result"
    }
   ],
   "source": [
    "pdfpages = PdfPages(\"lowYieldLEDDQM.pdf\")   \n",
    "tplot_dict = {'*':[]}\n",
    "for attributeList in utils.std_plotAttribute:\n",
    "    iFEB = int(attributeList[0].split(']')[0].split('[')[-1].split(':')[0])\n",
    "    if iFEB<2:\n",
    "        tplot_dict['*'].append(attributeList)\n",
    "figlist = utils.plot_dqm(fileList, tplot_dict, '== 0x0', False, nSmooth, False, \"Run 1361-1367;time;\") \n",
    "for tfig in figlist:\n",
    "    pdfpages.savefig(tfig)\n",
    "    plt.close(tfig)\n",
    "\n",
    "pdfpages.close()\n",
    "from IPython.display import IFrame\n",
    "IFrame(\"lowYieldLEDDQM.pdf\", width=1200, height=900)"
   ]
  },
  {
   "cell_type": "markdown",
   "id": "57205f92-686b-46ea-b23f-3c80eba6431c",
   "metadata": {},
   "source": [
    "##### Funny how the CMB temperatures on FEB0 were all frozen again. Otherwise alright."
   ]
  },
  {
   "cell_type": "markdown",
   "id": "ef306335-ab4c-4100-892e-c0d03e5b09f3",
   "metadata": {},
   "source": [
    "More issues related to pedestal extraction and calibration using the lowYieldLED dataset see pedestal.ipynb; processing using pedestalProcess.py and pedestalEvaluate.py."
   ]
  },
  {
   "cell_type": "code",
   "execution_count": null,
   "id": "14dff4e6-c21e-44e9-9b33-889e8cf6ccf2",
   "metadata": {},
   "outputs": [],
   "source": []
  }
 ],
 "metadata": {
  "kernelspec": {
   "display_name": "Python 3 (ipykernel)",
   "language": "python",
   "name": "python3"
  },
  "language_info": {
   "codemirror_mode": {
    "name": "ipython",
    "version": 3
   },
   "file_extension": ".py",
   "mimetype": "text/x-python",
   "name": "python",
   "nbconvert_exporter": "python",
   "pygments_lexer": "ipython3",
   "version": "3.9.13"
  }
 },
 "nbformat": 4,
 "nbformat_minor": 5
}
