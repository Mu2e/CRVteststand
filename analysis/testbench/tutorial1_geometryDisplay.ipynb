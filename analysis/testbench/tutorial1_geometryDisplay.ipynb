{
 "cells": [
  {
   "cell_type": "markdown",
   "id": "5b716691",
   "metadata": {},
   "source": [
    "# This example demonstrates crv_event class and event display. "
   ]
  },
  {
   "cell_type": "code",
   "execution_count": null,
   "id": "ef99810c",
   "metadata": {},
   "outputs": [],
   "source": [
    "from __future__ import print_function\n",
    "import sys\n",
    "import numpy as np\n",
    "import matplotlib.pyplot as plt\n",
    "from matplotlib.backends.backend_pdf import PdfPages\n",
    "\n",
    "import ROOT\n",
    "from ROOT import TCanvas, TH1F, TH2F, TF1, TMath, TGraph, TFile, TSpectrum, TPaveText, TMultiGraph, TGraphErrors, TLine\n",
    "from ROOT import gStyle, gROOT, gDirectory, gPad\n",
    "\n",
    "import constants\n",
    "import crv_event\n",
    "import geometry\n",
    "import geometry_constants\n",
    "\n",
    "pdfpages = PdfPages(\"tutorial1_geometryDisplay.pdf\")\n",
    "\n",
    "geometry1 = geometry.testBenchGeometry(geometry_constants.geom_dict_crvaging001)\n",
    "geometry4 = geometry.testBenchGeometry(geometry_constants.geom_dict_crvaging004)\n",
    "geometry6 = geometry.testBenchGeometry(geometry_constants.geom_dict_crvaging006)\n",
    "geometry7 = geometry.testBenchGeometry(geometry_constants.geom_dict_crvaging007)"
   ]
  },
  {
   "cell_type": "code",
   "execution_count": null,
   "id": "4dee9757",
   "metadata": {},
   "outputs": [],
   "source": [
    "fig,ax = plt.subplots(1,1,figsize=geometry1.canvasSize)\n",
    "geometry1.plotGeometry(ax, '', True, True)\n",
    "#pdfpages.savefig(fig)\n",
    "fig.show()\n",
    "#plt.close(fig)"
   ]
  },
  {
   "cell_type": "code",
   "execution_count": null,
   "id": "becc8797",
   "metadata": {},
   "outputs": [],
   "source": [
    "fig,ax = plt.subplots(1,1,figsize=geometry4.canvasSize)\n",
    "geometry4.plotGeometry(ax, '', True, True)\n",
    "#pdfpages.savefig(fig)\n",
    "fig.show()\n",
    "#plt.close(fig)"
   ]
  },
  {
   "cell_type": "code",
   "execution_count": null,
   "id": "a62fb15c",
   "metadata": {},
   "outputs": [],
   "source": [
    "fig,ax = plt.subplots(1,1,figsize=geometry6.canvasSize)\n",
    "geometry6.plotGeometry(ax, '', True, True)\n",
    "#pdfpages.savefig(fig)\n",
    "fig.show()\n",
    "#plt.close(fig)"
   ]
  },
  {
   "cell_type": "code",
   "execution_count": null,
   "id": "dcca79de",
   "metadata": {},
   "outputs": [],
   "source": [
    "fig,ax = plt.subplots(1,1,figsize=geometry7.canvasSize)\n",
    "geometry7.plotGeometry(ax, '', True, True)\n",
    "#pdfpages.savefig(fig)\n",
    "fig.show()\n",
    "#plt.close(fig)"
   ]
  },
  {
   "cell_type": "code",
   "execution_count": null,
   "id": "0d9ee9d6",
   "metadata": {},
   "outputs": [],
   "source": [
    "# fFile = TFile(\"/home/yongyiwu/Mu2e_CRV/Wideband/rec.mu2e.CRV_wideband_cosmics.crvaging-004.001134_000.root\", \"READ\")\n",
    "fFile = TFile(\"/pnfs/mu2e/scratch/users/ehrlich/wideband28/crvreco/rec.mu2e.CRV_wideband_cosmics.crvaging-007.001327_000.root\", \"READ\")\n",
    "fTree = fFile.Get(\"run\")\n",
    "\n",
    "for iEntry in range(30):\n",
    "    tEvent = crv_event.crv_event(fTree, iEntry, 0b1110)\n",
    "    # tEvent.plotEvent(pdfpages, [geometry4], True, True if iEntry<1 else False)\n",
    "    tEvent.plotEvent(pdfpages, [geometry7], True, True if iEntry<1 else False)\n",
    "\n",
    "pdfpages.close()\n",
    "\n",
    "from IPython.display import IFrame\n",
    "IFrame(\"tutorial1_geometryDisplay.pdf\", width=800, height=600)"
   ]
  }
 ],
 "metadata": {
  "kernelspec": {
   "display_name": "Python 3 (ipykernel)",
   "language": "python",
   "name": "python3"
  },
  "language_info": {
   "codemirror_mode": {
    "name": "ipython",
    "version": 3
   },
   "file_extension": ".py",
   "mimetype": "text/x-python",
   "name": "python",
   "nbconvert_exporter": "python",
   "pygments_lexer": "ipython3",
   "version": "3.10.6"
  }
 },
 "nbformat": 4,
 "nbformat_minor": 5
}
