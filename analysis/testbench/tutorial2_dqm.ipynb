# This example demonstrates slow control display and DQM selection using crv_spill class. 

from __future__ import print_function
import sys
import numpy as np
import matplotlib.pyplot as plt
from matplotlib.backends.backend_pdf import PdfPages

import ROOT
from ROOT import TCanvas, TH1F, TH2F, TF1, TMath, TGraph, TFile, TSpectrum, TPaveText, TMultiGraph, TGraphErrors, TLine
from ROOT import gStyle, gROOT, gDirectory, gPad

import constants
import crv_event
import crv_spill
import utils
import geometry
import geometry_constants
import filepath

fileList, runNumList, configList, nFEBlist = filepath.getfilelist(filepath.ds_temp_scan_cosmics + filepath.ds_temp_scan_led)
plotAttribute = [["temperatureFEB[0:1]", "temperatureCMB[0][0]"],
                 ["temperatureFEB[2:3]", "temperatureCMB[2][0]"],
                 ["temperatureFEB[4:5]", "temperatureCMB[4][0]"],
                 ["supply15V[0:1]", "supply10V[0:1]"],
                 ["supply5V[0:1]", "supplyN5V[0:1]"],
                 ["supply3V3[0:1]", "supply2V5[0:1]"],
                 ["supply1V8[0:1]", "supply1V2[0:1]"],
                 ["supply15V[2:3]", "supply10V[2:3]"],
                 ["supply5V[2:3]", "supplyN5V[2:3]"],
                 ["supply3V3[2:3]", "supply2V5[2:3]"],
                 ["supply1V8[2:3]", "supply1V2[2:3]"],
                 ["supply15V[4:5]", "supply10V[4:5]"],
                 ["supply5V[4:5]", "supplyN5V[4:5]"],
                 ["supply3V3[4:5]", "supply2V5[4:5]"],
                 ["supply1V8[4:5]", "supply1V2[4:5]"],
                 ["busSiPMBias[0][0:4]"],
                 ["busSiPMBias[0][4:8]"],
                 ["busSiPMBias[1][0:4]"],
                 ["busSiPMBias[1][4:8]"],
                 ["busSiPMBias[2][0:4]"],
                 ["busSiPMBias[2][4:8]"],
                 ["busSiPMBias[3][0:4]"],
                 ["busSiPMBias[3][4:8]"],
                 ["busSiPMBias[4][0:4]"],
                 ["busSiPMBias[4][4:8]"],
                 ["busSiPMBias[5][0:4]"],
                 ["busSiPMBias[5][4:8]"],
                 ["settingPipelineLen[0:1]", "settingSampleLen[0:1]"],
                 ["settingPipelineLen[2:3]", "settingSampleLen[2:3]"],
                 ["settingPipelineLen[4:5]", "settingSampleLen[4:5]"],
                 ["temperatureCMB[0][0:16:4]"], # channels on the same CMB read a single CMB temperature
                 ["temperatureCMB[0][16:32:4]"],
                 ["temperatureCMB[0][32:48:4]"],
                 ["temperatureCMB[0][48:64:4]"],
                 ["temperatureCMB[1][0:16:4]"],
                 ["temperatureCMB[1][16:32:4]"],
                 ["temperatureCMB[1][32:48:4]"],
                 ["temperatureCMB[1][48:64:4]"],
                 ["temperatureCMB[2][0:16:4]"],
                 ["temperatureCMB[2][16:32:4]"],
                 ["temperatureCMB[2][32:48:4]"],
                 ["temperatureCMB[2][48:64:4]"],
                 ["temperatureCMB[3][0:16:4]"],
                 ["temperatureCMB[3][16:32:4]"],
                 ["temperatureCMB[3][32:48:4]"],
                 ["temperatureCMB[3][48:64:4]"],
                 ["temperatureCMB[4][0:16:4]"],
                 ["temperatureCMB[4][16:32:4]"],
                 ["temperatureCMB[4][32:48:4]"],
                 ["temperatureCMB[4][48:64:4]"],
                 ["temperatureCMB[5][0:16:4]"],
                 ["temperatureCMB[5][16:32:4]"],
                 ["temperatureCMB[5][32:48:4]"],
                 ["temperatureCMB[5][48:64:4]"]]
keyList = ["%i"%i for i in runNumList]
nSmooth = 1

pdfpages = PdfPages("temperatureScanDQM.pdf")

# plot temperatureCMB[0][0] of all files:
tdict = {'*':["temperatureCMB[0][0]"]}
tfig = utils.plot_dqm(fileList, tdict, '', nSmooth, True, "CMB Temp[0][0];time;degC") 

# full DQM
for attributeList in plotAttribute:
    tdict = {}
    for ikey, tkey in enumerate(keyList):
        iFEB = int(attributeList[0].split(']')[0].split('[')[-1].split(':')[0])
        if nFEBlist[ikey]>iFEB:
            tdict.update({tkey:attributeList})
    if tdict:
        figlist = utils.plot_dqm(fileList, tdict, '== 0x0', nSmooth, False, "Run # ;time;") 
        for tfig in figlist:
            pdfpages.savefig(tfig)
            plt.close(tfig)

pdfpages.close()        